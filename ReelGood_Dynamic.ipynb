{
 "cells": [
  {
   "cell_type": "code",
   "execution_count": 33,
   "metadata": {},
   "outputs": [],
   "source": [
    "# Dependencies\n",
    "from bs4 import BeautifulSoup\n",
    "import requests\n",
    "import pandas as pd"
   ]
  },
  {
   "cell_type": "code",
   "execution_count": 187,
   "metadata": {},
   "outputs": [
    {
     "name": "stdout",
     "output_type": "stream",
     "text": [
      "What title are you looking for?Purge\n"
     ]
    }
   ],
   "source": [
    "query = input('What title are you looking for?')"
   ]
  },
  {
   "cell_type": "code",
   "execution_count": 188,
   "metadata": {},
   "outputs": [
    {
     "name": "stdout",
     "output_type": "stream",
     "text": [
      "https://reelgood.com/search?q='Purge'\n"
     ]
    }
   ],
   "source": [
    "base_url = 'https://reelgood.com'\n",
    "url = f\"{base_url}/search?q='{query}'\"\n",
    "print(url)"
   ]
  },
  {
   "cell_type": "code",
   "execution_count": 189,
   "metadata": {},
   "outputs": [
    {
     "name": "stdout",
     "output_type": "stream",
     "text": [
      "https://reelgood.com/movie/purge-2012\n"
     ]
    }
   ],
   "source": [
    "# Retrieve page with the requests module\n",
    "response = requests.get(url)\n",
    "# Create BeautifulSoup object; parse with 'html.parser'\n",
    "soup = BeautifulSoup(response.text, 'html.parser')\n",
    "link = soup.select('.e1qyeclq5 a')[0]['href']\n",
    "show_url = base_url + link\n",
    "print(show_url)"
   ]
  },
  {
   "cell_type": "code",
   "execution_count": 190,
   "metadata": {},
   "outputs": [],
   "source": [
    "show_response = requests.get(show_url)\n",
    "show_soup = BeautifulSoup(show_response.text, 'html.parser')"
   ]
  },
  {
   "cell_type": "code",
   "execution_count": 191,
   "metadata": {},
   "outputs": [],
   "source": [
    "services = show_soup.select('.e126mwsw1 span[class*=hou113]')"
   ]
  },
  {
   "cell_type": "code",
   "execution_count": 192,
   "metadata": {},
   "outputs": [
    {
     "name": "stdout",
     "output_type": "stream",
     "text": [
      "error\n"
     ]
    }
   ],
   "source": [
    "title = ''\n",
    "desc = '' \n",
    "feature_img = '' \n",
    "meta = ''\n",
    "recommended = ''\n",
    "genre = ''\n",
    "rating = ''\n",
    "maturity = ''\n",
    "country = ''\n",
    "try:\n",
    "    title = show_soup.select('h1.e14injhv7')[0].text\n",
    "    desc = show_soup.select('p[itemprop=description]')[0].text \n",
    "    feature_img = show_soup.select('.e1x40mdt0 picture.e1181ybh0 img.e1181ybh1')[0]['src']  \n",
    "    recommended = show_soup.select('.e1yfir8f4 .e1qyeclq4') \n",
    "    genre = show_soup.find('a',class_='css-10wrqt0').text\n",
    "    rating = show_soup.find('span', class_='ey4ir3j3').text\n",
    "    maturity = show_soup.select('span[title*=rating]')[0].text\n",
    "    country = show_soup.select('.css-10wrqt0[href*=origin]')[0].text\n",
    "except:\n",
    "    print('error')"
   ]
  },
  {
   "cell_type": "code",
   "execution_count": 193,
   "metadata": {},
   "outputs": [
    {
     "data": {
      "text/plain": [
       "{'title': 'Purge',\n",
       " 'description': \"Allide experienced The Great Terror under Stalin’s regime, and decades after her hometown people were deported to Siberia, she lives alone in an isolated house. One night, she finds a young woman in her yard – Zara has just escaped from the claws of the Russian mafia that held her as a sex slave. Survivors both, Aliide and Zara engage in unearthing each other’s motives and gradually, and their stories merge into one, revealing the tragedy of a family during the cruelest years in Estonian history.Purge featuring Laura Birn and Liisi Tandefelt is available for rent or purchase on iTunes, available for rent or purchase on Google Play, available for rent or purchase on Prime Video, and 1 other. It's a crime and drama movie with a better than average IMDb audience rating of 7.1 (3,515 votes).\",\n",
       " 'feature_img': 'https://img.reelgood.com/content/movie/c01217fe-4535-4c2d-a5bb-6826ebc59db4/poster-780.jpg',\n",
       " 'genre': 'Crime',\n",
       " 'rating': '7.1',\n",
       " 'maturity': 'Rated: 13+ (PG-13)',\n",
       " 'country': '',\n",
       " 'where': None,\n",
       " 'recommended': ['Amour Fou (2014)',\n",
       "  'All Together (2012)',\n",
       "  'The Parade (2011)',\n",
       "  '9 Full Moons (2013)',\n",
       "  'The Monk (2011)',\n",
       "  'All Mistakes Buried (2015)',\n",
       "  'It (1927)',\n",
       "  'Sand Dollars (2015)',\n",
       "  'Kinyarwanda (2011)',\n",
       "  'The Nun (2013)',\n",
       "  'Traitors (2013)',\n",
       "  'Hava Nagila: The Movie (2012)',\n",
       "  'Disco Godfather (1979)',\n",
       "  'Alone With Her (2006)',\n",
       "  'The Robber (2010)',\n",
       "  'Urban Justice (2007)',\n",
       "  'Kadosh (1999)',\n",
       "  'Stormy Monday (1988)',\n",
       "  'Amish Grace (2010)',\n",
       "  'Moka (2016)',\n",
       "  'Black Venus (2010)',\n",
       "  'Lady of Burlesque (1943)',\n",
       "  'Chronicles (2004)',\n",
       "  'Tortilla Soup (2001)',\n",
       "  'Eldorado (2008)',\n",
       "  'Home (2013)',\n",
       "  'Rapt (2009)',\n",
       "  'Fonzy (2013)',\n",
       "  'Aftermath (2013)',\n",
       "  'The Knot (2012)',\n",
       "  'Urban Explorer (2011)',\n",
       "  'Amber Lake (2011)',\n",
       "  'The Take (2007)',\n",
       "  'Nightwatching (2007)',\n",
       "  'Schneider vs. Bax (2015)',\n",
       "  'Khadak (2006)',\n",
       "  'True Believer (1989)',\n",
       "  'The Thirst (2007)',\n",
       "  'Portrait of Wally (2012)',\n",
       "  'Broken Ceiling (2018)',\n",
       "  'The Last Sentence (2012)',\n",
       "  'Strange Bedfellows (2004)',\n",
       "  'Chely Wright: Wish Me Away (2011)',\n",
       "  'Turn the River (2008)',\n",
       "  'Wasted on the Young (2010)',\n",
       "  'Visitors (2013)',\n",
       "  'A Bottle in the Gaza Sea (2011)',\n",
       "  'Three Worlds (2012)',\n",
       "  \"Father's Little Dividend (1951)\",\n",
       "  \"Gangster's Paradise: Jerusalema (2008)\",\n",
       "  'The Dark Knight (2008)',\n",
       "  'The Shawshank Redemption (1994)',\n",
       "  'Pulp Fiction (1994)',\n",
       "  'The Godfather (1972)',\n",
       "  'GoodFellas (1990)',\n",
       "  'The Departed (2006)',\n",
       "  '12 Angry Men (1957)',\n",
       "  'The Godfather: Part II (1974)',\n",
       "  'Reservoir Dogs (1992)',\n",
       "  'Catch Me If You Can (2002)',\n",
       "  'City of God (2002)',\n",
       "  'Taxi Driver (1976)',\n",
       "  'Batman Begins (2005)',\n",
       "  'Knives Out (2019)',\n",
       "  'The Usual Suspects (1995)',\n",
       "  'No Country for Old Men (2007)',\n",
       "  'A Clockwork Orange (1971)',\n",
       "  'Joker (2019)',\n",
       "  'The Wolf of Wall Street (2013)',\n",
       "  'Léon: The Professional (1994)',\n",
       "  'The Green Mile (1999)',\n",
       "  'Prisoners (2013)',\n",
       "  'Fargo (1996)',\n",
       "  'Nightcrawler (2014)',\n",
       "  'The Big Lebowski (1998)',\n",
       "  'L.A. Confidential (1997)',\n",
       "  'Scarface (1983)',\n",
       "  'Trainspotting (1996)',\n",
       "  'Kill Bill: Vol. 1 (2003)',\n",
       "  'The Girl with the Dragon Tattoo (2011)',\n",
       "  'The Irishman (2019)',\n",
       "  'Snatch (2000)',\n",
       "  'Heat (1995)',\n",
       "  'Lock, Stock and Two Smoking Barrels (1998)',\n",
       "  'Three Billboards Outside Ebbing, Missouri (2017)',\n",
       "  'Kill Bill: Vol. 2 (2004)',\n",
       "  'Hell or High Water (2016)',\n",
       "  'Stand by Me (1986)',\n",
       "  'Cool Hand Luke (1967)',\n",
       "  'Drive (2011)',\n",
       "  'Casino (1995)',\n",
       "  'The Town (2010)',\n",
       "  \"Ocean's Eleven (2001)\",\n",
       "  'Zodiac (2007)',\n",
       "  'John Wick (2014)',\n",
       "  'Mystic River (2003)',\n",
       "  'Baby Driver (2017)',\n",
       "  'M (1931)',\n",
       "  'Dog Day Afternoon (1975)',\n",
       "  'John Wick: Chapter 2 (2017)',\n",
       "  'The Dark Knight (2008)',\n",
       "  'The Shawshank Redemption (1994)',\n",
       "  'Pulp Fiction (1994)',\n",
       "  'The Godfather (1972)',\n",
       "  \"Schindler's List (1993)\",\n",
       "  'GoodFellas (1990)',\n",
       "  'Fight Club (1999)',\n",
       "  'The Departed (2006)',\n",
       "  'Parasite (2019)',\n",
       "  'Se7en (1995)',\n",
       "  'Whiplash (2014)',\n",
       "  '12 Angry Men (1957)',\n",
       "  'The Dark Knight Rises (2012)',\n",
       "  'Avengers: Endgame (2019)',\n",
       "  'Django Unchained (2012)',\n",
       "  'The Godfather: Part II (1974)',\n",
       "  'Saving Private Ryan (1998)',\n",
       "  'The Lion King (1994)',\n",
       "  'Reservoir Dogs (1992)',\n",
       "  'The Silence of the Lambs (1991)',\n",
       "  'The Truman Show (1998)',\n",
       "  'Catch Me If You Can (2002)',\n",
       "  'Forrest Gump (1994)',\n",
       "  \"One Flew Over the Cuckoo's Nest (1975)\",\n",
       "  'The Prestige (2006)',\n",
       "  'City of God (2002)',\n",
       "  'Taxi Driver (1976)',\n",
       "  'Batman Begins (2005)',\n",
       "  'The Pianist (2002)',\n",
       "  'The Intouchables (2011)',\n",
       "  'American Beauty (1999)',\n",
       "  'Inglourious Basterds (2009)',\n",
       "  'Interstellar (2014)',\n",
       "  'Gone Girl (2014)',\n",
       "  'The Usual Suspects (1995)',\n",
       "  'Good Will Hunting (1997)',\n",
       "  '12 Years a Slave (2013)',\n",
       "  \"Pan's Labyrinth (2006)\",\n",
       "  \"The King's Speech (2010)\",\n",
       "  '1917 (2019)',\n",
       "  'Casablanca (1943)',\n",
       "  'Eternal Sunshine of the Spotless Mind (2004)',\n",
       "  'Seven Samurai (1954)',\n",
       "  'Ford v Ferrari (2019)',\n",
       "  'No Country for Old Men (2007)',\n",
       "  'A Clockwork Orange (1971)',\n",
       "  'Joker (2019)',\n",
       "  '3 Idiots (2009)',\n",
       "  'Gladiator (2000)',\n",
       "  'Blade Runner (1982)']}"
      ]
     },
     "execution_count": 193,
     "metadata": {},
     "output_type": "execute_result"
    }
   ],
   "source": [
    "dic_list = {\n",
    "    'title': title,\n",
    "    'description': desc,\n",
    "    'feature_img': feature_img ,\n",
    "    'genre' : genre,\n",
    "    'rating': rating,\n",
    "    'maturity':maturity,\n",
    "    'country':country,\n",
    "    'where':where,\n",
    "    'recommended':[r.text for r in recommended]\n",
    "} \n",
    "dic_list"
   ]
  },
  {
   "cell_type": "code",
   "execution_count": null,
   "metadata": {},
   "outputs": [],
   "source": []
  }
 ],
 "metadata": {
  "kernelspec": {
   "display_name": "Python 3",
   "language": "python",
   "name": "python3"
  },
  "language_info": {
   "codemirror_mode": {
    "name": "ipython",
    "version": 3
   },
   "file_extension": ".py",
   "mimetype": "text/x-python",
   "name": "python",
   "nbconvert_exporter": "python",
   "pygments_lexer": "ipython3",
   "version": "3.8.3"
  }
 },
 "nbformat": 4,
 "nbformat_minor": 4
}
